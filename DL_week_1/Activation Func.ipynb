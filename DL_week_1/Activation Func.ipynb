{
 "cells": [
  {
   "cell_type": "code",
   "execution_count": 1,
   "metadata": {},
   "outputs": [
    {
     "name": "stdout",
     "output_type": "stream",
     "text": [
      "0.9999546021312976\n",
      "20\n",
      "-0.7615941559557649\n",
      "-0.1\n",
      "-0.06321205588285576\n"
     ]
    }
   ],
   "source": [
    "import numpy as np\n",
    "\n",
    "class Activation:\n",
    "    \n",
    "    def sigmoid(self,x):\n",
    "        y = 1.0 / (1.0 + np.exp(-x))\n",
    "        return y\n",
    "    \n",
    "    def tanh(self,x):\n",
    "        y = (np.exp(x) - np.exp(-x)) / (np.exp(x) + np.exp(-x))\n",
    "        return y\n",
    "    \n",
    "    def relu(self,x):\n",
    "        if x >= 0:\n",
    "            y = x\n",
    "        else:\n",
    "            y = 0\n",
    "        return y\n",
    "    \n",
    "    def leaky_relu(self,alpha,x):\n",
    "        if x >= 0:\n",
    "            y = x\n",
    "        else:\n",
    "            y = alpha*x\n",
    "        return y\n",
    "    \n",
    "    def elu(self,alpha,x):\n",
    "        if x >= 0:\n",
    "            y = x\n",
    "        else:\n",
    "            y = alpha*(np.exp(x)-1)\n",
    "        return y\n",
    "    \n",
    "activation = Activation()\n",
    "print(activation.sigmoid(10))\n",
    "print(activation.relu(20))\n",
    "print(activation.tanh(-1))\n",
    "print(activation.leaky_relu(0.1,-1))\n",
    "print(activation.elu(0.1,-1))"
   ]
  }
 ],
 "metadata": {
  "kernelspec": {
   "display_name": "Python 3",
   "language": "python",
   "name": "python3"
  },
  "language_info": {
   "codemirror_mode": {
    "name": "ipython",
    "version": 3
   },
   "file_extension": ".py",
   "mimetype": "text/x-python",
   "name": "python",
   "nbconvert_exporter": "python",
   "pygments_lexer": "ipython3",
   "version": "3.7.0"
  }
 },
 "nbformat": 4,
 "nbformat_minor": 2
}

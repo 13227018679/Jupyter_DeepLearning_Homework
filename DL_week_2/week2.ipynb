{
 "cells": [
  {
   "cell_type": "markdown",
   "metadata": {},
   "source": [
    "## Tensor loading and polyfit"
   ]
  },
  {
   "cell_type": "code",
   "execution_count": 37,
   "metadata": {},
   "outputs": [
    {
     "name": "stdout",
     "output_type": "stream",
     "text": [
      "(0.0, 0.0)\n",
      "(1.0, 1.2)\n",
      "(2.0, 0.89999998)\n",
      "(3.0, 0.2)\n",
      "(4.0, -0.80000001)\n",
      "(5.0, -1.0)\n"
     ]
    },
    {
     "data": {
      "image/png": "[encoded data removed]",
      "text/plain": [
       "<Figure size 432x288 with 1 Axes>"
      ]
     },
     "metadata": {
      "needs_background": "light"
     },
     "output_type": "display_data"
    }
   ],
   "source": [
    "import torch\n",
    "import numpy as np\n",
    "import matplotlib.pyplot as plt\n",
    "\n",
    "# load tensors\n",
    "x,y = torch.load('xs.pt'),torch.load('ys.pt')\n",
    "x_np = x.numpy()\n",
    "y_np = y.numpy()\n",
    "\n",
    "# tensor to numpy.array\n",
    "for i in range(len(x_np)):\n",
    "    xy_tuple = tuple([x_np[i],np.round_(y_np[i],2)])\n",
    "    print(xy_tuple)\n",
    "plt.figure(figsize=(6,4))\n",
    "plt.plot(x_np,y_np,'o')\n",
    "plt.xlim(-2,6)\n",
    "plt.ylim(-2,2)\n",
    "\n",
    "# ployfit points\n",
    "poly = np.polyfit(x_np,y_np,deg=3)\n",
    "p = np.poly1d(poly)\n",
    "x=np.linspace(-1,6,100)\n",
    "plt.plot(x,p(x),'orange')\n",
    "plt.show()"
   ]
  },
  {
   "cell_type": "markdown",
   "metadata": {},
   "source": [
    "## Using numpy to create tensor"
   ]
  },
  {
   "cell_type": "code",
   "execution_count": 38,
   "metadata": {},
   "outputs": [
    {
     "name": "stdout",
     "output_type": "stream",
     "text": [
      "tensor([[10., 11., 12., 13., 14., 15., 16., 17., 18., 19., 20., 21., 22., 23.,\n",
      "         24., 25., 26., 27., 28., 29., 30., 31., 32., 33., 34., 35., 36., 37.,\n",
      "         38., 39., 40., 41., 42., 43., 44., 45., 46., 47., 48., 49.]])\n",
      "tensor(10.)\n",
      "tensor(49.)\n"
     ]
    }
   ],
   "source": [
    "import torch\n",
    "import numpy as np\n",
    "\n",
    "a = np.arange(10.,50.,1.)\n",
    "a_pt = torch.from_numpy(a)\n",
    "b_pt = torch.reshape(a_pt,(1,-1))\n",
    "print(b_pt.float())\n",
    "print(torch.min(b_pt).float())\n",
    "print(torch.max(b_pt).float())"
   ]
  },
  {
   "cell_type": "markdown",
   "metadata": {},
   "source": [
    "## Convolution"
   ]
  },
  {
   "cell_type": "code",
   "execution_count": 41,
   "metadata": {},
   "outputs": [
    {
     "name": "stdout",
     "output_type": "stream",
     "text": [
      "\n",
      "\n",
      "Input matrices:\n",
      "\n",
      "\n",
      "[[[0 0 0 0 0 0 0]\n",
      "  [0 1 0 1 2 1 0]\n",
      "  [0 0 2 1 0 1 0]\n",
      "  [0 1 1 0 2 0 0]\n",
      "  [0 2 2 1 1 0 0]\n",
      "  [0 2 0 1 2 0 0]\n",
      "  [0 0 0 0 0 0 0]]\n",
      "\n",
      " [[0 0 0 0 0 0 0]\n",
      "  [0 2 0 2 1 1 0]\n",
      "  [0 0 1 0 0 2 0]\n",
      "  [0 1 0 0 2 1 0]\n",
      "  [0 1 1 2 1 0 0]\n",
      "  [0 1 0 1 1 1 0]\n",
      "  [0 0 0 0 0 0 0]]]\n",
      "\n",
      "\n",
      "Core matrices:\n",
      "\n",
      "\n",
      "[[[ 1  0  1]\n",
      "  [-1  1  0]\n",
      "  [ 0 -1  0]]\n",
      "\n",
      " [[-1  0  1]\n",
      "  [ 0  0  1]\n",
      "  [ 1  1  1]]]\n",
      "\n",
      "\n",
      "Convolution result:\n",
      "\n",
      "\n",
      "[[ 2.  0.  2.  4.  0.]\n",
      " [ 1.  4.  4.  3.  5.]\n",
      " [ 4.  3.  5.  9. -1.]\n",
      " [ 3.  4.  6.  2.  1.]\n",
      " [ 5.  3.  5.  1. -2.]]\n"
     ]
    }
   ],
   "source": [
    "import torch\n",
    "import numpy as np\n",
    "import matplotlib.pyplot as plt\n",
    "\n",
    "\n",
    "def convolution(param1,param2):\n",
    "    \n",
    "    # cast exception\n",
    "    if np.shape(param1)[1] != np.shape(param1)[2] and np.shape(param2)[1] != np.shape(param2)[2]:\n",
    "        return []\n",
    "    \n",
    "    # definite variables\n",
    "    num = np.shape(param1)[0]\n",
    "    len1 = np.shape(param1)[1]\n",
    "    len2 = np.shape(param2)[1]\n",
    "    len3 = len1-len2+1\n",
    "    matrix = np.zeros((len3,len3))\n",
    "    \n",
    "    # iter begin \n",
    "    for i in range(len3):\n",
    "        for j in range(len3):\n",
    "            val = 0\n",
    "            ## >=3 inputs and cores\n",
    "            for n in range(num):\n",
    "                val += sum(sum(np.multiply(param1[n,i:i+len2,j:j+len2],param2[n])))\n",
    "                matrix[i,j] = val\n",
    "    \n",
    "    return matrix\n",
    "\n",
    "\n",
    "# 3D-matrix definition\n",
    "input1 = np.array([[0,0,0,0,0,0,0],[0,1,0,1,2,1,0],[0,0,2,1,0,1,0],\n",
    "                   [0,1,1,0,2,0,0],[0,2,2,1,1,0,0],[0,2,0,1,2,0,0],[0,0,0,0,0,0,0]])\n",
    "input2 = np.array([[0,0,0,0,0,0,0],[0,2,0,2,1,1,0],[0,0,1,0,0,2,0],\n",
    "                   [0,1,0,0,2,1,0],[0,1,1,2,1,0,0],[0,1,0,1,1,1,0],[0,0,0,0,0,0,0]])\n",
    "input_mat = np.array([input1,input2])\n",
    "core1= np.array([[1,0,1],[-1,1,0],[0,-1,0]])\n",
    "core2= np.array([[-1,0,1],[0,0,1],[1,1,1]])\n",
    "core_mat = np.array([core1,core2])\n",
    "\n",
    "# get result\n",
    "res = convolution(input_mat,core_mat)\n",
    "print(\"\\n\\nInput matrices:\\n\\n\")\n",
    "print(input_mat)\n",
    "print(\"\\n\\nCore matrices:\\n\\n\")\n",
    "print(core_mat)\n",
    "print(\"\\n\\nConvolution result:\\n\\n\")\n",
    "print(res)\n"
   ]
  }
 ],
 "metadata": {
  "kernelspec": {
   "display_name": "Python 3",
   "language": "python",
   "name": "python3"
  },
  "language_info": {
   "codemirror_mode": {
    "name": "ipython",
    "version": 3
   },
   "file_extension": ".py",
   "mimetype": "text/x-python",
   "name": "python",
   "nbconvert_exporter": "python",
   "pygments_lexer": "ipython3",
   "version": "3.6.8"
  }
 },
 "nbformat": 4,
 "nbformat_minor": 2
}

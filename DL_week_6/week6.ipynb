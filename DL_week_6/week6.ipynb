{
 "cells": [
  {
   "cell_type": "markdown",
   "metadata": {},
   "source": [
    "# Week5：CNN-2"
   ]
  },
  {
   "cell_type": "markdown",
   "metadata": {},
   "source": [
    "## 1. 实验内容与流程"
   ]
  },
  {
   "cell_type": "markdown",
   "metadata": {},
   "source": [
    "### 1.1 实验要求"
   ]
  },
  {
   "cell_type": "markdown",
   "metadata": {},
   "source": [
    " 1.结合理论课内容，深入理解DenseNet、ResNeXt的结构与FaceNet的工作机制，理解Triplet loss的工作过程。\n",
    "\n",
    " 2.简要回答实验指导书中的提出的问题。按照指导，补充或改写相应代码，使程序能够运行，并得到相应结果。\n",
    "\n",
    " 3.提交作业时，请将实验指导书、pics文件夹和数据集文件夹一同打包提交。\n"
   ]
  },
  {
   "cell_type": "markdown",
   "metadata": {},
   "source": [
    "### 1.2 知识预备"
   ]
  },
  {
   "cell_type": "markdown",
   "metadata": {},
   "source": [
    "1.熟悉基本的分类网络，如AlexNet、VGG、ResNet，GoogleNet。\n",
    "\n",
    "2.理解Residual Block的结构。\n",
    "\n",
    "3.Triplet loss\n"
   ]
  },
  {
   "cell_type": "markdown",
   "metadata": {},
   "source": [
    "### 1.3 实验内容 "
   ]
  },
  {
   "cell_type": "markdown",
   "metadata": {},
   "source": [
    "1.在基础的ResNet网络结构之上，增加和修改部分结构，设计基础的DenseNet和ResNeXt网络。\n",
    "\n",
    "2.利用Triplet loss训练一个简单的FaceNet网络，并用knn的方式进行分类预测。\n",
    "\n",
    "3.本次实验用到的数据集是mnist的部分数据，mnist数据集包括50000张训练图片和10000张测试图片，这次选取其中2000张训练图片，每类200张，\n",
    "\n",
    "和1000张测试图片，每类100张，作为本次实验的全部数据集。"
   ]
  },
  {
   "cell_type": "markdown",
   "metadata": {},
   "source": [
    "## 2. DenseNet与ResNeXt"
   ]
  },
  {
   "cell_type": "markdown",
   "metadata": {},
   "source": [
    "首先回顾一下DenseNet的结构，DenseNet的每一层都都与前面层相连，实现了特征重用。\n",
    "\n",
    "下图表示一个DenseBlock\n",
    "![DenseBlock](pics/denseblock.png)\n"
   ]
  },
  {
   "attachments": {
    "image.png": {
     "image/png": "[encoded data removed]"
    }
   },
   "cell_type": "markdown",
   "metadata": {},
   "source": [
    "如图所示,在一个DenseBlock中,第i层的输入不仅与i-1层的输出相关,还有所有之前层的输出有关.记作:\n",
    "\n",
    "![output](attachment:image.png)"
   ]
  },
  {
   "cell_type": "markdown",
   "metadata": {},
   "source": [
    "### 2.1 DenseNet网络的搭建"
   ]
  },
  {
   "cell_type": "markdown",
   "metadata": {},
   "source": [
    "#### Growth_rate"
   ]
  },
  {
   "cell_type": "markdown",
   "metadata": {},
   "source": [
    "   在一个DenseBlock里面，每个非线性变换H输出的channels数为恒定的Growth_rate，那么第i层的输入的channels数便是k+（i+1）* Growth_rate, k为Input\n",
    "   \n",
    "   的channels数，比如，假设我们把Growth_rate设为4，上图中H1的输入的size为8 * 32 * 32，输出为4 * 32 * 32， 则H2的输入的size为12 * 32 * 32，\n",
    "   \n",
    "   输出还是4 * 32 * 32，H3、H4以此类推，在实验中，用较小的Growth_rate就能实现较好的效果。"
   ]
  },
  {
   "cell_type": "markdown",
   "metadata": {},
   "source": [
    "#### Transition Layer"
   ]
  },
  {
   "cell_type": "markdown",
   "metadata": {},
   "source": [
    "请注意， 在一个DenseBlock里面，feature size并没有发生改变，因为需要对不同层的feature map进行concatenate操作，这需要保持相同的feature size。\n",
    "\n",
    "因此在相邻的DenseBlock中间使用Down Sampling来增大感受野，即使用Transition Layer来实现，一般的Transition Layer包含BN、Conv和Avg_pool，\n",
    "\n",
    "同时减少维度，压缩率(compress rate)通常为0.5， 即减少一半的维度。\n",
    "![DenseNet](pics/densenet.png)\n",
    "\n",
    "例如，假设block1的输出c * w * h是24 * 32 * 32，那么经过transition之后，block2的输入就是12 * 16 * 16。"
   ]
  },
  {
   "cell_type": "markdown",
   "metadata": {},
   "source": [
    "#### Bottleneck"
   ]
  },
  {
   "cell_type": "markdown",
   "metadata": {},
   "source": [
    "为了减少参数和计算量，DenseNet的非线性变换H采用了Bottleneck结构BN-ReLU-Conv(1×1)-BN-ReLU-Conv(3×3)，1×1的卷积用于降低维度，将channels数降\n",
    "\n",
    "低至4 * Growth_rate。"
   ]
  },
  {
   "cell_type": "markdown",
   "metadata": {},
   "source": [
    "### 2.2 定义网络"
   ]
  },
  {
   "cell_type": "code",
   "execution_count": 43,
   "metadata": {},
   "outputs": [],
   "source": [
    "# Load necessary modules here\n",
    "import math\n",
    "import torch\n",
    "import torch.nn as nn\n",
    "import torch.nn.functional as F\n",
    "import torch.optim as optim\n",
    "import torch.backends.cudnn as cudnn\n",
    "import os\n",
    "\n",
    "\n",
    "class Bottleneck(nn.Module):\n",
    "    '''\n",
    "        the above mentioned bottleneck, including two conv layer, one's kernel size is 1×1, another's is 3×3\n",
    "\n",
    "        after non-linear operation, concatenate the input to the output\n",
    "    '''\n",
    "    def __init__(self, in_planes, growth_rate):\n",
    "        super(Bottleneck, self).__init__()\n",
    "        self.bn1 = nn.BatchNorm2d(in_planes)\n",
    "        self.conv1 = nn.Conv2d(in_planes, 4*growth_rate, kernel_size=1, bias=False)\n",
    "        self.bn2 = nn.BatchNorm2d(4*growth_rate)\n",
    "        self.conv2 = nn.Conv2d(4*growth_rate, growth_rate, kernel_size=3, padding=1, bias=False)\n",
    "\n",
    "    def forward(self, x):\n",
    "        out = self.conv1(F.relu(self.bn1(x)))\n",
    "        out = self.conv2(F.relu(self.bn2(out)))\n",
    "        \n",
    "        # input and output are concatenated here\n",
    "        out = torch.cat([out,x], 1)\n",
    "        return out\n",
    "\n",
    "\n",
    "class Transition(nn.Module):\n",
    "    '''\n",
    "        transition layer is used for down sampling the feature\n",
    "        \n",
    "        when compress rate is 0.5, out_planes is a half of in_planes\n",
    "    '''\n",
    "    def __init__(self, in_planes, out_planes):\n",
    "        super(Transition, self).__init__()\n",
    "        self.bn = nn.BatchNorm2d(in_planes)\n",
    "        self.conv = nn.Conv2d(in_planes, out_planes, kernel_size=1, bias=False)\n",
    "\n",
    "    def forward(self, x):\n",
    "        \n",
    "        out = self.conv(F.relu(self.bn(x)))\n",
    "        # use average pooling change the size of feature map here\n",
    "        out = F.avg_pool2d(out, 2)\n",
    "        return out \n",
    "\n",
    "    \n",
    "class DenseNet(nn.Module):\n",
    "    def __init__(self, block, nblocks, growth_rate=12, reduction=0.5, num_classes=10):\n",
    "        super(DenseNet, self).__init__()\n",
    "        '''\n",
    "        Args:\n",
    "            block: bottleneck\n",
    "            nblock: a list, the elements is number of bottleneck in each denseblock\n",
    "            growth_rate: channel size of bottleneck's output\n",
    "            reduction: \n",
    "        '''\n",
    "        self.growth_rate = growth_rate\n",
    "\n",
    "        num_planes = 2*growth_rate\n",
    "        self.conv1 = nn.Conv2d(3, num_planes, kernel_size=3, padding=1, bias=False)\n",
    "        \n",
    "        # a DenseBlock and a transition layer\n",
    "        self.dense1 = self._make_dense_layers(block, num_planes, nblocks[0])\n",
    "        num_planes += nblocks[0]*growth_rate\n",
    "        # the channel size is superposed, mutiply by reduction to cut it down here, the reduction is also known as compress rate\n",
    "        out_planes = int(math.floor(num_planes*reduction))\n",
    "        self.trans1 = Transition(num_planes, out_planes)\n",
    "        num_planes = out_planes\n",
    "        \n",
    "        # a DenseBlock and a transition layer\n",
    "        self.dense2 = self._make_dense_layers(block, num_planes, nblocks[1])\n",
    "        num_planes += nblocks[1]*growth_rate\n",
    "        # the channel size is superposed, mutiply by reduction to cut it down here, the reduction is also known as compress rate\n",
    "        out_planes = int(math.floor(num_planes*reduction))\n",
    "        self.trans2 = Transition(num_planes, out_planes)\n",
    "        num_planes = out_planes\n",
    "\n",
    "        # a DenseBlock and a transition layer\n",
    "        self.dense3 = self._make_dense_layers(block, num_planes, nblocks[2])\n",
    "        num_planes += nblocks[2]*growth_rate\n",
    "        # the channel size is superposed, mutiply by reduction to cut it down here, the reduction is also known as compress rate\n",
    "        out_planes = int(math.floor(num_planes*reduction))\n",
    "        self.trans3 = Transition(num_planes, out_planes)\n",
    "        num_planes = out_planes\n",
    "\n",
    "        # only one DenseBlock \n",
    "        self.dense4 = self._make_dense_layers(block, num_planes, nblocks[3])\n",
    "        num_planes += nblocks[3]*growth_rate\n",
    "\n",
    "        # the last part is a linear layer as a classifier\n",
    "        self.bn = nn.BatchNorm2d(num_planes)\n",
    "        self.linear = nn.Linear(num_planes, num_classes)\n",
    "\n",
    "    def _make_dense_layers(self, block, in_planes, nblock):\n",
    "        layers = []\n",
    "        \n",
    "        # number of non-linear transformations in one DenseBlock depends on the parameter you set\n",
    "        for i in range(nblock):\n",
    "            layers.append(block(in_planes, self.growth_rate))\n",
    "            in_planes += self.growth_rate\n",
    "        return nn.Sequential(*layers)\n",
    "\n",
    "    def forward(self, x):\n",
    "        out = self.conv1(x)\n",
    "        out = self.trans1(self.dense1(out))\n",
    "        out = self.trans2(self.dense2(out))\n",
    "        out = self.trans3(self.dense3(out))\n",
    "        out = self.dense4(out)\n",
    "        out = F.avg_pool2d(F.relu(self.bn(out)), 4)\n",
    "        out = out.view(out.size(0), -1)\n",
    "        out = self.linear(out)\n",
    "        return out\n",
    "\n",
    "\n",
    "def densenet():\n",
    "    return DenseNet(Bottleneck, [2, 5, 4, 6])"
   ]
  },
  {
   "cell_type": "markdown",
   "metadata": {},
   "source": [
    "#### Question 1\n",
    "上面的定义的DenseNet为多少层DenseNet（只计算卷积层与全连接层）？请定义一个卷积层总数为52层的DenseNet。"
   ]
  },
  {
   "cell_type": "markdown",
   "metadata": {},
   "source": [
    "#### Answer 1\n",
    "Every `Bottleneck` block contains 2 `Conv2d` layers; every `Transition` block contains 1 `Conv2d` layer; `_make_dense_layers` makes `nblock` `Bottleneck` blocks. We can see that the total number of `Conv2D` is 2*(2+5+4+6)/`Bottlenecks`+1*4/`Transitions` = 38. One `linear` occurs, thus the layer number is 39."
   ]
  },
  {
   "cell_type": "code",
   "execution_count": 44,
   "metadata": {},
   "outputs": [],
   "source": [
    "def densenet52():\n",
    "    return  DenseNet(Bottleneck, [2, 2, 4, 16])"
   ]
  },
  {
   "cell_type": "markdown",
   "metadata": {},
   "source": [
    "### 2.3 训练与测试"
   ]
  },
  {
   "cell_type": "code",
   "execution_count": 49,
   "metadata": {},
   "outputs": [],
   "source": [
    "import torchvision\n",
    "import torchvision.transforms as transforms\n",
    "from torch.autograd import Variable\n",
    "\n",
    "\n",
    "def train(epoch, model, lossFunction, optimizer, device, trainloader):\n",
    "    \"\"\"train model using loss_fn and optimizer. When this function is called, model trains for one epoch.\n",
    "    Args:\n",
    "        train_loader: train data\n",
    "        model: prediction model\n",
    "        loss_fn: loss function to judge the distance between target and outputs\n",
    "        optimizer: optimize the loss function\n",
    "        get_grad: True, False\n",
    "    output:\n",
    "        total_loss: loss\n",
    "        average_grad2: average grad for hidden 2 in this epoch\n",
    "        average_grad3: average grad for hidden 3 in this epoch\n",
    "    \"\"\"\n",
    "    print('\\nEpoch: %d' % epoch)\n",
    "    model.train()     # enter train mode\n",
    "    train_loss = 0    # accumulate every batch loss in a epoch\n",
    "    correct = 0       # count when model' prediction is correct i train set\n",
    "    total = 0         # total number of prediction in train set\n",
    "    for batch_idx, (inputs, targets) in enumerate(trainloader):\n",
    "        inputs, targets = inputs.to(device), targets.to(device) # load data to gpu device\n",
    "        inputs, targets = Variable(inputs), Variable(targets)\n",
    "        optimizer.zero_grad()            # clear gradients of all optimized torch.Tensors'\n",
    "        outputs = model(inputs)          # forward propagation return the value of softmax function\n",
    "        loss = lossFunction(outputs, targets) #compute loss\n",
    "        loss.backward()                  # compute gradient of loss over parameters \n",
    "        optimizer.step()                 # update parameters with gradient descent \n",
    "\n",
    "        train_loss += loss.item()        # accumulate every batch loss in a epoch\n",
    "        _, predicted = outputs.max(1)    # make prediction according to the outputs\n",
    "        total += targets.size(0)\n",
    "        correct += predicted.eq(targets).sum().item() # count how many predictions is correct\n",
    "        \n",
    "        if (batch_idx+1) % 100 == 0:\n",
    "            # print loss and acc\n",
    "            print( 'Train loss: %.3f | Train Acc: %.3f%% (%d/%d)'\n",
    "                % (train_loss/(batch_idx+1), 100.*correct/total, correct, total))\n",
    "    print( 'Train loss: %.3f | Train Acc: %.3f%% (%d/%d)'\n",
    "                % (train_loss/(batch_idx+1), 100.*correct/total, correct, total))\n",
    "    \n",
    "    \n",
    "def test(model, lossFunction, optimizer, device, testloader):\n",
    "    \"\"\"\n",
    "    test model's prediction performance on loader.  \n",
    "    When thid function is called, model is evaluated.\n",
    "    Args:\n",
    "        loader: data for evaluation\n",
    "        model: prediction model\n",
    "        loss_fn: loss function to judge the distance between target and outputs\n",
    "    output:\n",
    "        total_loss\n",
    "        accuracy\n",
    "    \"\"\"\n",
    "    global best_acc\n",
    "    model.eval() #enter test mode\n",
    "    test_loss = 0 # accumulate every batch loss in a epoch\n",
    "    correct = 0\n",
    "    total = 0\n",
    "    with torch.no_grad():\n",
    "        for batch_idx, (inputs, targets) in enumerate(testloader):\n",
    "            inputs, targets = inputs.to(device), targets.to(device)\n",
    "            outputs = model(inputs)\n",
    "            loss = lossFunction(outputs, targets) #compute loss\n",
    "\n",
    "            test_loss += loss.item() # accumulate every batch loss in a epoch\n",
    "            _, predicted = outputs.max(1) # make prediction according to the outputs\n",
    "            total += targets.size(0)\n",
    "            correct += predicted.eq(targets).sum().item() # count how many predictions is correct\n",
    "        # print loss and acc\n",
    "        print('Test Loss: %.3f  | Test Acc: %.3f%% (%d/%d)'\n",
    "            % (test_loss/(batch_idx+1), 100.*correct/total, correct, total))\n",
    "\n",
    "        \n",
    "def data_loader():\n",
    "    # define method of preprocessing data for evaluating\n",
    "    transform_train = transforms.Compose([\n",
    "        transforms.Resize(32),\n",
    "        transforms.RandomCrop(32, padding=4),\n",
    "        transforms.RandomHorizontalFlip(),\n",
    "        transforms.ToTensor(),\n",
    "        # Normalize a tensor image with mean and standard variance\n",
    "        transforms.Normalize((0.4914, 0.4822, 0.4465), (0.2023, 0.1994, 0.2010)),\n",
    "    ])\n",
    "\n",
    "    transform_test = transforms.Compose([\n",
    "        transforms.Resize(32),\n",
    "        transforms.ToTensor(),\n",
    "        # Normalize a tensor image with mean and standard variance\n",
    "        transforms.Normalize((0.4914, 0.4822, 0.4465), (0.2023, 0.1994, 0.2010)),\n",
    "    ])\n",
    "    \n",
    "    # prepare dataset by ImageFolder, data should be classified by directory\n",
    "    trainset = torchvision.datasets.ImageFolder(root='./mnist/train', transform=transform_train)\n",
    "\n",
    "    testset = torchvision.datasets.ImageFolder(root='./mnist/test', transform=transform_test)\n",
    "\n",
    "    # Data loader. \n",
    "\n",
    "    # Combines a dataset and a sampler, \n",
    "\n",
    "    trainloader = torch.utils.data.DataLoader(trainset, batch_size=64, shuffle=True)\n",
    "\n",
    "    testloader = torch.utils.data.DataLoader(testset, batch_size=100, shuffle=False)\n",
    "    return trainloader, testloader\n",
    "\n",
    "def run(model, num_epochs):\n",
    "    \n",
    "    # load model into GPU device\n",
    "    # device = 'cuda' if torch.cuda.is_available() else 'cpu'\n",
    "    device = 'cuda:1' \n",
    "    model.to(device)\n",
    "    if device == 'cuda':\n",
    "        model = torch.nn.DataParallel(model)\n",
    "        cudnn.benchmark = True\n",
    "\n",
    "    # define the loss function and optimizer\n",
    "\n",
    "    lossFunction = nn.CrossEntropyLoss()\n",
    "    lr = 0.01\n",
    "    optimizer = optim.SGD(model.parameters(), lr=lr, momentum=0.9, weight_decay=5e-4)\n",
    "\n",
    "    trainloader, testloader = data_loader()\n",
    "    for epoch in range(num_epochs):\n",
    "        train(epoch, model, lossFunction, optimizer, device, trainloader)\n",
    "        test(model, lossFunction, optimizer, device, testloader)\n",
    "        if (epoch + 1) % 50 == 0 :\n",
    "            lr = lr / 10\n",
    "            for param_group in optimizer.param_groups:\n",
    "                param_group['lr'] = lr"
   ]
  },
  {
   "cell_type": "markdown",
   "metadata": {},
   "source": [
    "用你自己定义的DenseNet进行测试"
   ]
  },
  {
   "cell_type": "code",
   "execution_count": 22,
   "metadata": {},
   "outputs": [
    {
     "name": "stdout",
     "output_type": "stream",
     "text": [
      "\n",
      "Epoch: 0\n",
      "Train loss: 2.238 | Train Acc: 18.300% (366/2000)\n",
      "Test Loss: 2.308  | Test Acc: 10.000% (100/1000)\n",
      "\n",
      "Epoch: 1\n",
      "Train loss: 1.825 | Train Acc: 39.500% (790/2000)\n",
      "Test Loss: 1.612  | Test Acc: 36.100% (361/1000)\n",
      "\n",
      "Epoch: 2\n",
      "Train loss: 1.333 | Train Acc: 58.400% (1168/2000)\n",
      "Test Loss: 1.724  | Test Acc: 46.900% (469/1000)\n",
      "\n",
      "Epoch: 3\n",
      "Train loss: 0.908 | Train Acc: 71.500% (1430/2000)\n",
      "Test Loss: 0.779  | Test Acc: 75.100% (751/1000)\n",
      "\n",
      "Epoch: 4\n",
      "Train loss: 0.667 | Train Acc: 79.250% (1585/2000)\n",
      "Test Loss: 0.878  | Test Acc: 71.700% (717/1000)\n",
      "\n",
      "Epoch: 5\n",
      "Train loss: 0.596 | Train Acc: 78.500% (1570/2000)\n",
      "Test Loss: 0.765  | Test Acc: 70.000% (700/1000)\n",
      "\n",
      "Epoch: 6\n",
      "Train loss: 0.496 | Train Acc: 82.500% (1650/2000)\n",
      "Test Loss: 0.550  | Test Acc: 78.000% (780/1000)\n",
      "\n",
      "Epoch: 7\n",
      "Train loss: 0.444 | Train Acc: 85.250% (1705/2000)\n",
      "Test Loss: 0.697  | Test Acc: 73.200% (732/1000)\n",
      "\n",
      "Epoch: 8\n",
      "Train loss: 0.450 | Train Acc: 85.600% (1712/2000)\n",
      "Test Loss: 0.574  | Test Acc: 78.000% (780/1000)\n",
      "\n",
      "Epoch: 9\n",
      "Train loss: 0.407 | Train Acc: 86.100% (1722/2000)\n",
      "Test Loss: 0.421  | Test Acc: 87.800% (878/1000)\n",
      "\n",
      "Epoch: 10\n",
      "Train loss: 0.358 | Train Acc: 87.650% (1753/2000)\n",
      "Test Loss: 0.487  | Test Acc: 81.000% (810/1000)\n",
      "\n",
      "Epoch: 11\n",
      "Train loss: 0.319 | Train Acc: 89.850% (1797/2000)\n",
      "Test Loss: 0.467  | Test Acc: 85.000% (850/1000)\n",
      "\n",
      "Epoch: 12\n",
      "Train loss: 0.282 | Train Acc: 91.400% (1828/2000)\n",
      "Test Loss: 0.904  | Test Acc: 70.000% (700/1000)\n",
      "\n",
      "Epoch: 13\n",
      "Train loss: 0.258 | Train Acc: 92.150% (1843/2000)\n",
      "Test Loss: 0.276  | Test Acc: 92.100% (921/1000)\n",
      "\n",
      "Epoch: 14\n",
      "Train loss: 0.214 | Train Acc: 94.000% (1880/2000)\n",
      "Test Loss: 0.411  | Test Acc: 87.400% (874/1000)\n",
      "\n",
      "Epoch: 15\n",
      "Train loss: 0.238 | Train Acc: 93.300% (1866/2000)\n",
      "Test Loss: 0.313  | Test Acc: 90.900% (909/1000)\n",
      "\n",
      "Epoch: 16\n",
      "Train loss: 0.234 | Train Acc: 93.200% (1864/2000)\n",
      "Test Loss: 0.215  | Test Acc: 93.100% (931/1000)\n",
      "\n",
      "Epoch: 17\n",
      "Train loss: 0.208 | Train Acc: 94.150% (1883/2000)\n",
      "Test Loss: 0.208  | Test Acc: 93.500% (935/1000)\n",
      "\n",
      "Epoch: 18\n",
      "Train loss: 0.217 | Train Acc: 93.700% (1874/2000)\n",
      "Test Loss: 0.199  | Test Acc: 94.000% (940/1000)\n",
      "\n",
      "Epoch: 19\n",
      "Train loss: 0.183 | Train Acc: 94.150% (1883/2000)\n",
      "Test Loss: 0.183  | Test Acc: 94.200% (942/1000)\n"
     ]
    }
   ],
   "source": [
    "# start training and testing\n",
    "model = densenet52()\n",
    "# num_epochs is adjustable\n",
    "run(model, num_epochs=20)"
   ]
  },
  {
   "cell_type": "markdown",
   "metadata": {},
   "source": [
    "### 2.4 ResNeXt网络的搭建"
   ]
  },
  {
   "cell_type": "markdown",
   "metadata": {},
   "source": [
    "###### cardinality"
   ]
  },
  {
   "cell_type": "markdown",
   "metadata": {},
   "source": [
    "cardinality, 指的是repeat layer的个数，下图右边cardinality为32。左图是ResNet的基本结构，输入channel size为64，右图是ResNeXt的基本结构，\n",
    "\n",
    "输入channel size是128，但两者具有相近的参数量。\n",
    "![cardinality](pics/cardinality.png)"
   ]
  },
  {
   "cell_type": "markdown",
   "metadata": {},
   "source": [
    "###### ResNeXt Block"
   ]
  },
  {
   "cell_type": "markdown",
   "metadata": {},
   "source": [
    "有三种等价的ResNeXt Block，如下图，a是ResNeXt基本单元，如果把输出那里的1x1合并到一起，得到等价网络b拥有和Inception-ResNet相似的结构，\n",
    "\n",
    "而进一步把输入的1x1也合并到一起，得到等价网络c则和通道分组卷积的网络有相似的结构。\n",
    "![ResNeXtBlock](pics/ResNeXtBlock.png)"
   ]
  },
  {
   "cell_type": "markdown",
   "metadata": {},
   "source": [
    "###### ResNeXt网络结构"
   ]
  },
  {
   "cell_type": "markdown",
   "metadata": {},
   "source": [
    "下图表示ResNeXt-50(32x4d)的网络结构，卷积层和全连接层总数为50层，32表示的是cardinality,4d表示每一个repeat layer的channel数为4，所以整个block的通道数是32x4=128.\n",
    "![ResNeXt](pics/ResNeXt.png)"
   ]
  },
  {
   "cell_type": "code",
   "execution_count": 50,
   "metadata": {},
   "outputs": [],
   "source": [
    "class Block(nn.Module):\n",
    "    '''\n",
    "        Grouped convolution block(c).\n",
    "        \n",
    "    '''\n",
    "    expansion = 2\n",
    "\n",
    "    def __init__(self, in_planes, cardinality=32, bottleneck_width=4, stride=1):\n",
    "        '''\n",
    "            in_planes: channel size of input\n",
    "            cardinality: number of groups\n",
    "            bottleneck_width: channel size of each group\n",
    "        '''\n",
    "        super(Block, self).__init__()\n",
    "        group_width = cardinality * bottleneck_width\n",
    "        self.conv1 = nn.Conv2d(in_planes, group_width, kernel_size=1, bias=False)\n",
    "        self.bn1 = nn.BatchNorm2d(group_width)\n",
    "        # divide into 32 groups which 32 is cardinality\n",
    "        self.conv2 = nn.Conv2d(group_width, group_width, kernel_size=3, stride=stride, padding=1, groups=cardinality, bias=False)\n",
    "        self.bn2 = nn.BatchNorm2d(group_width)\n",
    "        self.conv3 = nn.Conv2d(group_width, self.expansion*group_width, kernel_size=1, bias=False)\n",
    "        self.bn3 = nn.BatchNorm2d(self.expansion*group_width)\n",
    "\n",
    "        self.shortcut = nn.Sequential()\n",
    "        if stride != 1 or in_planes != self.expansion*group_width:\n",
    "            self.shortcut = nn.Sequential(\n",
    "                nn.Conv2d(in_planes, self.expansion*group_width, kernel_size=1, stride=stride, bias=False),\n",
    "                nn.BatchNorm2d(self.expansion*group_width)\n",
    "            )\n",
    "\n",
    "    def forward(self, x):\n",
    "        out = F.relu(self.bn1(self.conv1(x)))\n",
    "        out = F.relu(self.bn2(self.conv2(out)))\n",
    "        out = self.bn3(self.conv3(out))\n",
    "        out += self.shortcut(x)\n",
    "        out = F.relu(out)\n",
    "        return out\n"
   ]
  },
  {
   "cell_type": "code",
   "execution_count": 51,
   "metadata": {},
   "outputs": [],
   "source": [
    "class ResNeXt(nn.Module):\n",
    "    def __init__(self, num_blocks, cardinality, bottleneck_width, num_classes=10):\n",
    "        '''\n",
    "            num_blocks: list type, channel size of input\n",
    "            cardinality: number of groups\n",
    "            bottleneck_width: channel size of each group\n",
    "        '''\n",
    "        super(ResNeXt, self).__init__()\n",
    "        self.cardinality = cardinality\n",
    "        self.bottleneck_width = bottleneck_width\n",
    "        self.in_planes = 64\n",
    "\n",
    "        self.conv1 = nn.Conv2d(3, 64, kernel_size=1, bias=False)\n",
    "        self.bn1 = nn.BatchNorm2d(64)\n",
    "        # size 32x32\n",
    "        self.layer1 = self._make_layer(num_blocks[0], 1)\n",
    "        # size 32x32\n",
    "        self.layer2 = self._make_layer(num_blocks[1], 2)\n",
    "        # size 16x16\n",
    "        self.layer3 = self._make_layer(num_blocks[2], 2)\n",
    "        # size 8x8\n",
    "        self.linear = nn.Linear(cardinality*bottleneck_width*8, num_classes)\n",
    "\n",
    "    def _make_layer(self, num_blocks, stride):\n",
    "        strides = [stride] + [1]*(num_blocks-1)\n",
    "        layers = []\n",
    "        for stride in strides:\n",
    "            layers.append(Block(self.in_planes, self.cardinality, self.bottleneck_width, stride))\n",
    "            self.in_planes = Block.expansion * self.cardinality * self.bottleneck_width\n",
    "        # Increase bottleneck_width by 2 after each stage.\n",
    "        self.bottleneck_width *= 2\n",
    "        return nn.Sequential(*layers)\n",
    "\n",
    "    def forward(self, x):\n",
    "        out = F.relu(self.bn1(self.conv1(x)))\n",
    "        out = self.layer1(out)\n",
    "        out = self.layer2(out)\n",
    "        out = self.layer3(out)\n",
    "        out = F.avg_pool2d(out, 8)\n",
    "        out = out.view(out.size(0), -1)\n",
    "        out = self.linear(out)\n",
    "        return out\n"
   ]
  },
  {
   "cell_type": "markdown",
   "metadata": {},
   "source": [
    "#### Question 2\n",
    "定义一个ResNeXt-32(16x8d)（补全下面一行代码），仿照DenseNet的方式训练和测试这个网络得出前20个epoch结果，分析这个结果好或坏的原因"
   ]
  },
  {
   "cell_type": "code",
   "execution_count": 52,
   "metadata": {},
   "outputs": [
    {
     "name": "stdout",
     "output_type": "stream",
     "text": [
      "\n",
      "Epoch: 0\n",
      "Train loss: 2.167 | Train Acc: 17.650% (353/2000)\n",
      "Test Loss: 4.626  | Test Acc: 10.000% (100/1000)\n",
      "\n",
      "Epoch: 1\n",
      "Train loss: 1.719 | Train Acc: 37.950% (759/2000)\n",
      "Test Loss: 1.829  | Test Acc: 36.000% (360/1000)\n",
      "\n",
      "Epoch: 2\n",
      "Train loss: 1.139 | Train Acc: 59.450% (1189/2000)\n",
      "Test Loss: 1.462  | Test Acc: 47.800% (478/1000)\n",
      "\n",
      "Epoch: 3\n",
      "Train loss: 0.768 | Train Acc: 73.500% (1470/2000)\n",
      "Test Loss: 1.732  | Test Acc: 57.800% (578/1000)\n",
      "\n",
      "Epoch: 4\n",
      "Train loss: 0.602 | Train Acc: 78.850% (1577/2000)\n",
      "Test Loss: 1.518  | Test Acc: 60.900% (609/1000)\n",
      "\n",
      "Epoch: 5\n",
      "Train loss: 0.522 | Train Acc: 83.050% (1661/2000)\n",
      "Test Loss: 1.213  | Test Acc: 67.700% (677/1000)\n",
      "\n",
      "Epoch: 6\n",
      "Train loss: 0.369 | Train Acc: 88.500% (1770/2000)\n",
      "Test Loss: 0.349  | Test Acc: 90.400% (904/1000)\n",
      "\n",
      "Epoch: 7\n",
      "Train loss: 0.312 | Train Acc: 90.150% (1803/2000)\n",
      "Test Loss: 0.369  | Test Acc: 89.300% (893/1000)\n",
      "\n",
      "Epoch: 8\n",
      "Train loss: 0.272 | Train Acc: 92.050% (1841/2000)\n",
      "Test Loss: 0.476  | Test Acc: 85.800% (858/1000)\n",
      "\n",
      "Epoch: 9\n",
      "Train loss: 0.257 | Train Acc: 92.500% (1850/2000)\n",
      "Test Loss: 0.286  | Test Acc: 91.600% (916/1000)\n",
      "\n",
      "Epoch: 10\n",
      "Train loss: 0.189 | Train Acc: 94.400% (1888/2000)\n",
      "Test Loss: 0.786  | Test Acc: 80.600% (806/1000)\n",
      "\n",
      "Epoch: 11\n",
      "Train loss: 0.171 | Train Acc: 95.050% (1901/2000)\n",
      "Test Loss: 0.615  | Test Acc: 80.000% (800/1000)\n",
      "\n",
      "Epoch: 12\n",
      "Train loss: 0.130 | Train Acc: 96.400% (1928/2000)\n",
      "Test Loss: 0.387  | Test Acc: 89.300% (893/1000)\n",
      "\n",
      "Epoch: 13\n",
      "Train loss: 0.143 | Train Acc: 95.700% (1914/2000)\n",
      "Test Loss: 0.240  | Test Acc: 93.500% (935/1000)\n",
      "\n",
      "Epoch: 14\n",
      "Train loss: 0.129 | Train Acc: 95.900% (1918/2000)\n",
      "Test Loss: 0.174  | Test Acc: 95.400% (954/1000)\n",
      "\n",
      "Epoch: 15\n",
      "Train loss: 0.100 | Train Acc: 97.200% (1944/2000)\n",
      "Test Loss: 0.273  | Test Acc: 91.800% (918/1000)\n",
      "\n",
      "Epoch: 16\n",
      "Train loss: 0.106 | Train Acc: 96.700% (1934/2000)\n",
      "Test Loss: 0.190  | Test Acc: 94.600% (946/1000)\n",
      "\n",
      "Epoch: 17\n",
      "Train loss: 0.106 | Train Acc: 96.700% (1934/2000)\n",
      "Test Loss: 0.306  | Test Acc: 91.400% (914/1000)\n",
      "\n",
      "Epoch: 18\n",
      "Train loss: 0.094 | Train Acc: 96.900% (1938/2000)\n",
      "Test Loss: 0.155  | Test Acc: 95.200% (952/1000)\n",
      "\n",
      "Epoch: 19\n",
      "Train loss: 0.077 | Train Acc: 97.300% (1946/2000)\n",
      "Test Loss: 0.170  | Test Acc: 95.500% (955/1000)\n"
     ]
    }
   ],
   "source": [
    "ResNeXt32_16x8d = ResNeXt([3, 3, 3], 16, 8)\n",
    "run(ResNeXt32_16x8d, num_epochs=20)"
   ]
  },
  {
   "cell_type": "markdown",
   "metadata": {},
   "source": [
    "#### Answer 2\n",
    "\n",
    "ResNet and DenseNet are proved to have the same path topology – “dense topology” essentially, whilst their only difference lies in the form of connections. \n",
    "\n",
    "However, there is some differences in this experiment. Clearly see that generalization error of the two NNs are approximately the same, and empirical error of ResNext is lower. \n",
    "\n",
    "DenseNet has some shortcomings:\n",
    "\n",
    "- In general case, DenseNet uses a lot more memory, as the tensors from different are concatenated together compared with ResNeXt. [Ref. 1](https://medium.com/@smallfishbigsea/densenet-2b0889854a92)\n",
    "- Although Densenet can reuse the feature, dense connection ($L(L − 1)2$) increases its computating time. [Ref. 2](https://www.imooc.com/article/36508) The excessive connections not only decrease networks' computation-efficiency and parameter-efficiency, but also make networks more prone to overfitting. [Ref. 3](https://arxiv.org/pdf/1804.05340.pdf)\n",
    "\n",
    "In this situation, ResNeXt enjoys more merits:\n",
    "\n",
    "- ResNeXt derives the shorcut thinking of ResNet, who add multi-branch Inception as enhancement. Thus, ResNeXt inherits the strong modularity and high scalability of its predecessor - ResNet. [Ref. 4](https://arxiv.org/pdf/1611.05431.pdf) [Ref. 5](https://imlogm.github.io/%E6%B7%B1%E5%BA%A6%E5%AD%A6%E4%B9%A0/resnet/)"
   ]
  },
  {
   "cell_type": "markdown",
   "metadata": {},
   "source": [
    "## 3.FaceNet"
   ]
  },
  {
   "cell_type": "markdown",
   "metadata": {},
   "source": [
    "有关FaceNet与triplet loss的理论知识请同学们复习理论课有关章节。在这里，我们将用triplet loss训练一个resnet18网络，并用这个网络在mnist数据集上进行KNN分类，具体的，resnet18相当于一个特征提取器，用所有的训练集图片的特征拟合一个KNN分类器，利用这个KNN分类进行预测. 在3.1小节，将给出triplet loss的实现. 3.2小节将实现一个适用于triplet loss训练的resnet18网络. 3.3小节将实现随机选取triplet的dataset, 3.4、3.5小节将分别实现resnet18的训练与测试函数."
   ]
  },
  {
   "cell_type": "markdown",
   "metadata": {},
   "source": [
    "###### embedding size"
   ]
  },
  {
   "cell_type": "markdown",
   "metadata": {},
   "source": [
    "FaceNet 的作用是将图像嵌入一个d维的空间，在这个d维空间里，同一类图像的特征之间相隔的近，不同类图像的特征之间相隔的远，这个d我们称之为embedding size"
   ]
  },
  {
   "cell_type": "markdown",
   "metadata": {},
   "source": [
    "### 3.1 triplet loss"
   ]
  },
  {
   "cell_type": "code",
   "execution_count": 53,
   "metadata": {},
   "outputs": [],
   "source": [
    "import torch\n",
    "import torch.nn as nn\n",
    "import torch.nn.functional as F\n",
    "import torch.optim as optim\n",
    "import torch.backends.cudnn as cudnn\n",
    "import os\n",
    "import torchvision\n",
    "import torchvision.transforms as transforms\n",
    "from torch.autograd import Variable,Function\n",
    "\n",
    "class PairwiseDistance(Function):\n",
    "    '''\n",
    "        compute distance of the embedding features, p is norm, when p is 2, then return L2-norm distance\n",
    "    '''\n",
    "    def __init__(self, p):\n",
    "        super(PairwiseDistance, self).__init__()\n",
    "        self.norm = p\n",
    "\n",
    "    def forward(self, x1, x2):\n",
    "        eps = 1e-6  # in case of zeros\n",
    "        diff = torch.abs(x1 - x2)     # subtraction\n",
    "        out = torch.pow(diff, self.norm).sum(dim=1) # square\n",
    "        return torch.pow(out + eps, 1. / self.norm) # L-p norm\n",
    "\n",
    "\n",
    "class TripletLoss(Function):\n",
    "    '''\n",
    "       Triplet loss function.\n",
    "       loss = max(diatance(a,p) - distance(a,n) + margin, 0)\n",
    "       forward method:\n",
    "           args:\n",
    "                anchor, positive, negative\n",
    "           return:\n",
    "                triplet loss\n",
    "    '''\n",
    "    def __init__(self, margin, num_classes=10):\n",
    "        super(TripletLoss, self).__init__()\n",
    "        self.margin = margin\n",
    "        self.num_classes = num_classes\n",
    "        self.pdist = PairwiseDistance(2) # to calculate distance\n",
    "\n",
    "    def forward(self, anchor, positive, negative):\n",
    "        d_p = self.pdist.forward(anchor, positive) # distance of anchor and positive\n",
    "        d_n = self.pdist.forward(anchor, negative) # distance of anchor and negative\n",
    "        \n",
    "        dist_hinge = torch.clamp(self.margin + d_p - d_n, min=0.0) # ensure loss is no less than zero\n",
    "        loss = torch.mean(dist_hinge)\n",
    "        return loss\n"
   ]
  },
  {
   "cell_type": "markdown",
   "metadata": {},
   "source": [
    "### 3.2 resnet-18 for triplet loss"
   ]
  },
  {
   "cell_type": "code",
   "execution_count": 54,
   "metadata": {},
   "outputs": [],
   "source": [
    "class BasicBlock(nn.Module):\n",
    "    '''\n",
    "        resnet basic block.\n",
    "        one block includes two conv layer and one residual\n",
    "    '''\n",
    "    expansion = 1\n",
    "    \n",
    "    def __init__(self, in_planes, planes, stride=1):\n",
    "\n",
    "        super(BasicBlock, self).__init__()\n",
    "        self.conv1 = nn.Conv2d(in_planes, planes, kernel_size=3, stride=stride, padding=1, bias=False)\n",
    "        self.bn1 = nn.BatchNorm2d(planes)\n",
    "        self.conv2 = nn.Conv2d(planes, planes, kernel_size=3, stride=1, padding=1, bias=False)\n",
    "        self.bn2 = nn.BatchNorm2d(planes)\n",
    "        self.shortcut = nn.Sequential()\n",
    "        if stride != 1 or in_planes != self.expansion*planes:\n",
    "            self.shortcut = nn.Sequential(\n",
    "                nn.Conv2d(in_planes, self.expansion*planes, kernel_size=1, stride=stride, bias=False),\n",
    "                nn.BatchNorm2d(self.expansion*planes)\n",
    "            )\n",
    "\n",
    "    def forward(self, x):\n",
    "        out = F.relu(self.bn1(self.conv1(x)))\n",
    "        out = self.bn2(self.conv2(out))\n",
    "        out += self.shortcut(x)\n",
    "        out = F.relu(out)\n",
    "        return out\n",
    "\n",
    "    \n",
    "class ResNetTriplet(nn.Module):\n",
    "    def __init__(self, block, num_blocks, embedding_size=256, num_classes=10):\n",
    "        super(ResNetTriplet, self).__init__()\n",
    "        self.in_planes = 64\n",
    "        self.conv1 = nn.Conv2d(3, 64, kernel_size=3, stride=1, padding=1, bias=False)\n",
    "        self.bn1 = nn.BatchNorm2d(64)\n",
    "        # feature map size 32x32\n",
    "        self.layer1 = self._make_layer(block, 64,  num_blocks[0], stride=1)\n",
    "        # feature map size 32x32\n",
    "        self.layer2 = self._make_layer(block, 128, num_blocks[1], stride=2)\n",
    "        # feature map size 16x16\n",
    "        self.layer3 = self._make_layer(block, 256, num_blocks[2], stride=2)\n",
    "        # feature map size 8x8\n",
    "        self.layer4 = self._make_layer(block, 512, num_blocks[3], stride=2)\n",
    "        # feature map size 4x4\n",
    "        # as we use resnet basic block, the expansion is 1\n",
    "        self.linear = nn.Linear(512*block.expansion, embedding_size)\n",
    "\n",
    "    def _make_layer(self, block, planes, num_blocks, stride):\n",
    "        strides = [stride] + [1]*(num_blocks-1)\n",
    "        layers = []\n",
    "        for stride in strides:\n",
    "            layers.append(block(self.in_planes, planes, stride))\n",
    "            self.in_planes = planes * block.expansion\n",
    "        return nn.Sequential(*layers)\n",
    "\n",
    "    def l2_norm(self,input):\n",
    "        input_size = input.size()\n",
    "        buffer = torch.pow(input, 2)\n",
    "        normp = torch.sum(buffer, 1).add_(1e-10)\n",
    "        norm = torch.sqrt(normp)\n",
    "        _output = torch.div(input, norm.view(-1, 1).expand_as(input))\n",
    "        output = _output.view(input_size)\n",
    "        return output\n",
    "\n",
    "    def forward(self, x):\n",
    "        out = F.relu(self.bn1(self.conv1(x)))\n",
    "        out = self.layer1(out)\n",
    "        out = self.layer2(out)\n",
    "        out = self.layer3(out)\n",
    "        out = self.layer4(out)\n",
    "        out = F.avg_pool2d(out, 4)\n",
    "        out = out.view(out.size(0), -1)\n",
    "        out = self.linear(out)\n",
    "        # normalize the features, then we set margin easily\n",
    "        self.features = self.l2_norm(out)\n",
    "        # multiply by alpha = 10 as suggested in https://arxiv.org/pdf/1703.09507.pdf\n",
    "        alpha = 10\n",
    "        self.features = self.features * alpha\n",
    "        # here we get the 256-d features, next we use those features to make prediction\n",
    "        return self.features\n",
    "\n",
    "    \n",
    "def ResNet18(embedding_size=256, num_classes=10):\n",
    "    \n",
    "    return ResNetTriplet(BasicBlock, [2,2,2,2], embedding_size, num_classes)\n"
   ]
  },
  {
   "cell_type": "markdown",
   "metadata": {},
   "source": [
    "### 3.3 triplet dataloader"
   ]
  },
  {
   "cell_type": "markdown",
   "metadata": {},
   "source": [
    "#### Question 3\n",
    "仔细阅读下面代码，对pic_classes的作用进行思考，回答下面问题：下面选取triplet的方式是随机选取，若要改为选择指定类别选取，怎么修改？请写出修改后的两行代码。"
   ]
  },
  {
   "cell_type": "markdown",
   "metadata": {},
   "source": [
    "#### Answer\n",
    "\n",
    "`Pic_classes` is convenient for us to find the path of the image id in `train.csv` and `test.csv`. For example, the corresponding content of `pic_classes['0']` is a list of ids of image with a number of 0.\n",
    "\n",
    "In order to produce a triplet sample, we need to take two pictures from the category of pos_class (one anc and one pos) and one picture from neg_class.\n",
    "\n",
    "``` python\n",
    "# you need to assign value to selected_pos(neg)_class first\n",
    "pos_class = selected_pos_class\n",
    "neg_class = selected_neg_class\n",
    "```\n",
    "\n",
    "[Ref. 1](https://www.jianshu.com/p/46c6f68264a1) [Ref. 2](https://www.jianshu.com/p/b1188c9f5fd2)"
   ]
  },
  {
   "cell_type": "code",
   "execution_count": 55,
   "metadata": {},
   "outputs": [],
   "source": [
    "import numpy as np\n",
    "import pandas as pd\n",
    "import torch\n",
    "from PIL import Image\n",
    "from torch.utils.data import Dataset\n",
    "\n",
    "\n",
    "class TripletFaceDataset(Dataset):\n",
    "\n",
    "    def __init__(self, root_dir, csv_name, num_triplets, transform = None):\n",
    "        '''\n",
    "        randomly select triplet,which means anchor,positive and negative are all selected randomly.\n",
    "        args:\n",
    "            root_dir : dir of data set\n",
    "            csv_name : dir of train.csv\n",
    "            num_triplets: total number of triplets\n",
    "        '''\n",
    "        \n",
    "        self.root_dir          = root_dir\n",
    "        self.df                = pd.read_csv(csv_name)\n",
    "        self.num_triplets      = num_triplets\n",
    "        self.transform         = transform\n",
    "        self.training_triplets = self.generate_triplets(self.df, self.num_triplets)\n",
    "        \n",
    "    @staticmethod\n",
    "    def generate_triplets(df, num_triplets):\n",
    "        \n",
    "        def make_dictionary_for_pic_class(df):\n",
    "\n",
    "            '''\n",
    "                make csv to the format that we want\n",
    "              - pic_classes = {'class0': [class0_id0, ...], 'class1': [class1_id0, ...], ...}\n",
    "            '''\n",
    "            pic_classes = dict()\n",
    "            for idx, label in enumerate(df['class']):\n",
    "                if label not in pic_classes:\n",
    "                    pic_classes[label] = []\n",
    "                pic_classes[label].append(df.iloc[idx, 0])\n",
    "            return pic_classes\n",
    "        \n",
    "        triplets    = []\n",
    "        classes     = df['class'].unique()\n",
    "        pic_classes = make_dictionary_for_pic_class(df)\n",
    "        \n",
    "        for _ in range(num_triplets):\n",
    "\n",
    "            '''\n",
    "              - randomly choose anchor, positive and negative images for triplet loss\n",
    "              - anchor and positive images in pos_class\n",
    "              - negative image in neg_class\n",
    "              - at least, two images needed for anchor and positive images in pos_class\n",
    "              - negative image should have different class as anchor and positive images by definition\n",
    "            '''\n",
    "        \n",
    "            pos_class = np.random.choice(classes)     # random choose positive class\n",
    "            neg_class = np.random.choice(classes)     # random choose negative class\n",
    "            \n",
    "            # if choose anchor\n",
    "            while len(pic_classes[pos_class]) < 2:\n",
    "                pos_class = np.random.choice(classes)\n",
    "            # if neg in the same class as anchor and pos\n",
    "            while pos_class == neg_class:\n",
    "                neg_class = np.random.choice(classes)\n",
    "\n",
    "            pos_name = df.loc[df['class'] == pos_class, 'name'].values[0] # get positive class's name\n",
    "            neg_name = df.loc[df['class'] == neg_class, 'name'].values[0] # get negative class's name\n",
    "\n",
    "            if len(pic_classes[pos_class]) == 2:\n",
    "                ianc, ipos = np.random.choice(2, size = 2, replace = False)\n",
    "            else:\n",
    "                # both anchor and positive images are in pos_class but are not the same image\n",
    "                ianc = np.random.randint(0, len(pic_classes[pos_class]))  # random choose anchor\n",
    "                ipos = np.random.randint(0, len(pic_classes[pos_class]))  # random choose positive\n",
    "                while ianc == ipos:\n",
    "                    ipos = np.random.randint(0, len(pic_classes[pos_class]))\n",
    "            ineg = np.random.randint(0, len(pic_classes[neg_class]))      # random choose negative\n",
    "\n",
    "            triplets.append([pic_classes[pos_class][ianc], pic_classes[pos_class][ipos], pic_classes[neg_class][ineg],\n",
    "                 pos_class, neg_class, pos_name, neg_name])\n",
    "        \n",
    "        return triplets\n",
    "    \n",
    "    \n",
    "    def __getitem__(self, idx):\n",
    "        \n",
    "        anc_id, pos_id, neg_id, pos_class, neg_class, pos_name, neg_name = self.training_triplets[idx]\n",
    "        \n",
    "        anc_img   = os.path.join(self.root_dir, str(pos_name), str(anc_id) + '.png') # join the path of anchor\n",
    "        pos_img   = os.path.join(self.root_dir, str(pos_name), str(pos_id) + '.png') # join the path of positive\n",
    "        neg_img   = os.path.join(self.root_dir, str(neg_name), str(neg_id) + '.png') # join the path of nagetive\n",
    "        \n",
    "        anc_img = Image.open(anc_img).convert('RGB') # open the anchor image\n",
    "        pos_img = Image.open(pos_img).convert('RGB') # open the positive image\n",
    "        neg_img = Image.open(neg_img).convert('RGB') # open the negative image\n",
    "\n",
    "        pos_class = torch.from_numpy(np.array([pos_class]).astype('long'))  # make label transform the type we want\n",
    "        neg_class = torch.from_numpy(np.array([neg_class]).astype('long'))  # make label transform the type we want\n",
    "\n",
    "        data = [anc_img, pos_img,neg_img]\n",
    "        label = [pos_class, pos_class, neg_class]\n",
    "\n",
    "        if self.transform:\n",
    "            data = [self.transform(img)  # preprocessing the image\n",
    "                    for img in data]\n",
    "            \n",
    "        return data, label\n",
    "    \n",
    "    def __len__(self):\n",
    "        \n",
    "        return len(self.training_triplets)\n",
    "\n"
   ]
  },
  {
   "cell_type": "markdown",
   "metadata": {},
   "source": [
    "### 3.4 train function for triplet loss"
   ]
  },
  {
   "cell_type": "code",
   "execution_count": 56,
   "metadata": {},
   "outputs": [],
   "source": [
    "import torchvision.transforms as transforms\n",
    "\n",
    "def train_facenet(epoch, model, optimizer, margin, num_triplets):\n",
    "    model.train()\n",
    "    # preprocessing function for image\n",
    "    transform = transforms.Compose([\n",
    "        transforms.Resize(32),\n",
    "        transforms.CenterCrop(32),\n",
    "        transforms.ToTensor(),\n",
    "        transforms.Normalize(\n",
    "            mean=np.array([0.4914, 0.4822, 0.4465]),\n",
    "            std=np.array([0.2023, 0.1994, 0.2010])),\n",
    "    ])\n",
    "    \n",
    "    # get dataset of triplet\n",
    "    \n",
    "    # num_triplet is adjustable\n",
    "    train_set = TripletFaceDataset(root_dir     = './mnist/train',\n",
    "                                   csv_name     = './mnist/train.csv',\n",
    "                                   num_triplets = num_triplets,\n",
    "                                   transform    = transform)\n",
    "\n",
    "    train_loader = torch.utils.data.DataLoader(train_set,\n",
    "                                               batch_size  = 16,\n",
    "                                               shuffle     = True)\n",
    "\n",
    "    total_loss = 0.0\n",
    "    for batch_idx, (data, target) in enumerate(train_loader):\n",
    "        # load data to gpu\n",
    "        data[0], target[0] = data[0].cuda(device='cuda:1'), target[0].cuda(device='cuda:1')  # anchor to cuda\n",
    "        data[1], target[1] = data[1].cuda(device='cuda:1'), target[1].cuda(device='cuda:1')  # positive to cuda\n",
    "        data[2], target[2] = data[2].cuda(device='cuda:1'), target[2].cuda(device='cuda:1')  # negative to cuda\n",
    "\n",
    "        data[0], target[0] = Variable(data[0]), Variable(target[0]) # anchor\n",
    "        data[1], target[1] = Variable(data[1]), Variable(target[1]) # positive\n",
    "        data[2], target[2] = Variable(data[2]), Variable(target[2]) # negative\n",
    "        # zero setting the grad\n",
    "        optimizer.zero_grad()\n",
    "        # forward\n",
    "        anchor   = model.forward(data[0])\n",
    "        positive = model.forward(data[1])\n",
    "        negative = model.forward(data[2])\n",
    "        \n",
    "        # margin is adjustable\n",
    "        loss = TripletLoss(margin=margin, num_classes=10).forward(anchor, positive, negative) # get triplet loss\n",
    "        total_loss += loss.item()\n",
    "        # back-propagating\n",
    "        loss.backward()\n",
    "        optimizer.step()\n",
    "\n",
    "    context = 'Train Epoch: {} [{}/{}], Average loss: {:.4f}'.format(\n",
    "        epoch, len(train_loader.dataset), len(train_loader.dataset), total_loss / len(train_loader))\n",
    "    print(context)"
   ]
  },
  {
   "cell_type": "markdown",
   "metadata": {},
   "source": [
    "### 3.5 test function for triplet loss"
   ]
  },
  {
   "cell_type": "markdown",
   "metadata": {},
   "source": [
    "关于如何测试的问题，由于triplet loss训练的resnet18网络没有分类器，这个网络的最后一层的输出是一个维度为embedding_size的向量，我们把它当作由模型提取出的特征，所以利用这个特征来做测试。首先保存下训练集上所有图片的特征和标签，用sklearn库的KNeighborsClassifier()拟合成一个KNN分类器，这里的K表示领域的个数，K是一个可调节的参数，在测试集上做验证时，提取图片的特征用KNN分类器做预测即可。"
   ]
  },
  {
   "cell_type": "markdown",
   "metadata": {},
   "source": [
    "#### Question 4\n",
    "仔细阅读下面代码，回答问题：下面的预测方法为KNN预测，若要改为中心点预测的方式，即找出每个类别的离均值点最近的图片做最近邻预测，请简述找出中心点的方法，无需写代码。"
   ]
  },
  {
   "cell_type": "markdown",
   "metadata": {},
   "source": [
    "#### Answer 4\n",
    "\n",
    "1. First, the model is used to output the one-hot vectors of each type of image - **cluster**. \n",
    "2. Then, the mean value - **center** - of each cluster is calculated. \n",
    "3. Images who are relatively closer to the center in the cluster are found as the representatives. \n",
    "4. In the prediction, the similarity between the image and the centers is calculated.\n",
    "5. Finally, we obtain the classification result."
   ]
  },
  {
   "cell_type": "code",
   "execution_count": 71,
   "metadata": {},
   "outputs": [],
   "source": [
    "from sklearn import neighbors\n",
    "import pandas\n",
    "import matplotlib.pyplot as plt\n",
    "        \n",
    "def KNN_classifier(model, epoch, n_neighbors):\n",
    "    '''\n",
    "        use all train set data to make KNN classifier\n",
    "    '''\n",
    "    model.eval()\n",
    "    # preprocessing function for image\n",
    "    transform = transforms.Compose([\n",
    "        transforms.Resize(32),\n",
    "        transforms.ToTensor(),\n",
    "        transforms.Normalize(\n",
    "            mean=np.array([0.485, 0.456, 0.406]),\n",
    "            std=np.array([0.229, 0.224, 0.225])),\n",
    "    ])\n",
    "    # prepare dataset by ImageFolder, data should be classified by directory\n",
    "    train_set = torchvision.datasets.ImageFolder(root='./mnist/train', transform=transform)\n",
    "    train_loader = torch.utils.data.DataLoader(train_set, batch_size=32, shuffle=False)\n",
    "\n",
    "    features, labels =[], [] # store features and labels\n",
    "    for i, (data, target) in enumerate(train_loader):\n",
    "        #  load data to gpu\n",
    "        data, target = data.cuda(device='cuda:1'), target.cuda(device='cuda:1')\n",
    "        data, target = Variable(data), Variable(target)\n",
    "        # forward\n",
    "        output = model(data)\n",
    "        # get features and labels to make knn classifier\n",
    "        features.extend(output.data.cpu().numpy())\n",
    "        labels.extend(target.data.cpu().numpy())\n",
    "        \n",
    "    # n_neighbor is adjustable\n",
    "    clf = neighbors.KNeighborsClassifier(n_neighbors=n_neighbors)\n",
    "    clf.fit(features, labels)\n",
    "\n",
    "    return clf\n",
    "\n",
    "\n",
    "def find_nearest_image(feature, label, model, clf):\n",
    "    \n",
    "    model.eval()\n",
    "    \n",
    "    # preprocessing function for image\n",
    "    transform = transforms.Compose([\n",
    "        transforms.Resize(32),\n",
    "        transforms.ToTensor(),\n",
    "        transforms.Normalize(\n",
    "            mean=np.array([0.485, 0.456, 0.406]),\n",
    "            std=np.array([0.229, 0.224, 0.225])),\n",
    "    ])\n",
    "    \n",
    "    frame = pandas.read_csv('./mnist/train.csv')\n",
    "    \n",
    "    # prepare dataset by ImageFolder, data should be classified by directory\n",
    "    train_set = torchvision.datasets.ImageFolder(root = './mnist/train', transform = transform)\n",
    "    train_loader = torch.utils.data.DataLoader(train_set, batch_size = 32, shuffle = False)\n",
    "    \n",
    "    features = []\n",
    "    targets = []\n",
    "    \n",
    "    for i, (data, target) in enumerate(train_loader):\n",
    "        # load data to gpu\n",
    "        data, target = data.cuda(device='cuda:1'), target.cuda(device='cuda:1')\n",
    "        data, target = Variable(data), Variable(target)\n",
    "        \n",
    "        # forward\n",
    "        output = model.forward(data)\n",
    "        \n",
    "        features.extend(output.data.cpu().numpy())\n",
    "        targets.extend(target.data.cpu().numpy())\n",
    "        \n",
    "    min_index = -1\n",
    "    min_dist = 0\n",
    "    for index in range(len(features)):\n",
    "        if targets[index] == label:\n",
    "            dist = np.linalg.norm(feature - features[index])\n",
    "            if min_index == -1:\n",
    "                min_dist = dist\n",
    "                min_index = 0\n",
    "            else:\n",
    "                if dist < min_dist:\n",
    "                    min_dist = dist\n",
    "                    min_index = index\n",
    "    \n",
    "    return os.path.join('./mnist/train/', str(frame['name'][min_index]), str(frame['id'][min_index]) + '.png')\n",
    "    \n",
    "\n",
    "def test_facenet(epoch, model, clf, test = True, last = False):\n",
    "    model.eval()\n",
    "    # preprocessing function for image\n",
    "    transform = transforms.Compose([\n",
    "        transforms.Resize(32),\n",
    "        transforms.ToTensor(),\n",
    "        transforms.Normalize(\n",
    "            mean=np.array([0.485, 0.456, 0.406]),\n",
    "            std=np.array([0.229, 0.224, 0.225])),\n",
    "    ])\n",
    "    \n",
    "    frame = pandas.read_csv('./mnist/test.csv')\n",
    "    \n",
    "    # prepare dataset by ImageFolder, data should be classified by directory\n",
    "    test_set = torchvision.datasets.ImageFolder(root = './mnist/test' if test else './mnist/train', transform = transform)\n",
    "    test_loader = torch.utils.data.DataLoader(test_set, batch_size = 32, shuffle = False)\n",
    "\n",
    "    correct, total = 0, 0\n",
    "    features = []\n",
    "    predicts = []\n",
    "    targets = []\n",
    "    \n",
    "    for i, (data, target) in enumerate(test_loader):\n",
    "        # load data to gpu\n",
    "        data, target = data.cuda(device='cuda:1'), target.cuda(device='cuda:1')\n",
    "        data, target = Variable(data), Variable(target)\n",
    "        \n",
    "        # forward\n",
    "        output = model.forward(data)\n",
    "        # predict by knn classifier\n",
    "        predicted = clf.predict(output.data.cpu().numpy())\n",
    "        \n",
    "        correct += (torch.tensor(predicted) == target.data.cpu()).sum()\n",
    "        total += target.size(0)\n",
    "        \n",
    "        if test and last:\n",
    "            features.extend(output.data.cpu().numpy())\n",
    "            targets.extend(target.data.cpu().numpy())\n",
    "            predicts.extend(torch.tensor(predicted).numpy())\n",
    "            \n",
    "    if test and last:\n",
    "        err_count = 0\n",
    "        for index in range(len(features)):\n",
    "            if not predicts[index] == targets[index]:\n",
    "                image_path = os.path.join('./mnist/test/', str(frame['name'][index]), str(frame['id'][index]) + '.png')\n",
    "                image = Image.open(image_path).convert('RGB')\n",
    "                \n",
    "                plt.subplot(1,3,1)\n",
    "                plt.imshow(image)\n",
    "                \n",
    "                # save origin images\n",
    "                error_image_path = os.path.join('./pics/errors/', 'img%d_origin_(%d).png' %(err_count, targets[index]))\n",
    "                image.save(error_image_path)\n",
    "                \n",
    "                path_nearest_target = find_nearest_image(features[index], targets[index], model, clf)\n",
    "                path_nearest_predict = find_nearest_image(features[index], predicts[index], model, clf)\n",
    "                \n",
    "                image_nearest_target = Image.open(path_nearest_target).convert('RGB')\n",
    "                image_nearest_predict = Image.open(path_nearest_predict).convert('RGB')\n",
    "                \n",
    "                plt.subplot(1,3,2)\n",
    "                plt.imshow(image_nearest_target)\n",
    "                \n",
    "                plt.subplot(1,3,3)\n",
    "                plt.imshow(image_nearest_predict)\n",
    "                plt.show()\n",
    "                \n",
    "                # save nearest taget\n",
    "                target_image_path = os.path.join('./pics/errors/', 'img%d_near_tgt_(%d).png' %(err_count, targets[index]))\n",
    "                image_nearest_target.save(target_image_path)\n",
    "                \n",
    "                # save nearest predict\n",
    "                predict_image_path = os.path.join('./pics/errors/', 'img%d_near_pdc_(%d).png' %(err_count, predicts[index]))\n",
    "                image_nearest_predict.save(predict_image_path)\n",
    "                \n",
    "                err_count += 1\n",
    "                \n",
    "        print(\"Error images saved!\")\n",
    "    \n",
    "    \n",
    "    context = 'Accuracy of model in ' + ('test' if test else 'train') + \\\n",
    "              ' set is {}/{}({:.2f}%)'.format(correct, total, 100. * float(correct) / float(total))\n",
    "    print(context)\n"
   ]
  },
  {
   "cell_type": "markdown",
   "metadata": {},
   "source": [
    "### 3.6训练与测试"
   ]
  },
  {
   "cell_type": "code",
   "execution_count": 72,
   "metadata": {},
   "outputs": [],
   "source": [
    "def run_facenet():\n",
    "    # hyper parameter\n",
    "    lr = 0.008\n",
    "    margin = 2.0\n",
    "    num_triplets = 8000\n",
    "    n_neighbors = 5\n",
    "    embedding_size = 128\n",
    "    num_epochs = 5\n",
    "    \n",
    "    # embedding_size is adjustable\n",
    "    model = ResNet18(embedding_size, 10)\n",
    "    \n",
    "    # load model into GPU device\n",
    "    device = torch.device('cuda:1')\n",
    "    model = model.to(device)\n",
    "    if device == 'cuda':\n",
    "        model = torch.nn.DataParallel(model)\n",
    "        cudnn.benchmark = True\n",
    "    \n",
    "    # define the optimizer, lr、momentum、weight_decay is adjustable\n",
    "    optimizer = optim.SGD(model.parameters(), lr=lr, momentum=0.9, weight_decay=5e-4)\n",
    "    \n",
    "    print('start training')\n",
    "    for epoch in range(num_epochs):  \n",
    "        train_facenet(epoch, model, optimizer, margin, num_triplets) # train resnet18 with triplet loss\n",
    "        clf = KNN_classifier(model, epoch, n_neighbors)     # get knn classifier\n",
    "        last = False\n",
    "        if epoch == num_epochs - 1:\n",
    "            last = True\n",
    "        test_facenet(epoch, model, clf, False)  # validate train set\n",
    "        test_facenet(epoch, model, clf, True, last)   # validate test set\n",
    "        if (epoch + 1) % 4 == 0 :\n",
    "            lr = lr / 3\n",
    "            for param_group in optimizer.param_groups:\n",
    "                param_group['lr'] = lr\n",
    "        "
   ]
  },
  {
   "cell_type": "code",
   "execution_count": 73,
   "metadata": {},
   "outputs": [
    {
     "name": "stdout",
     "output_type": "stream",
     "text": [
      "start training\n",
      "Train Epoch: 0 [8000/8000], Average loss: 0.3779\n",
      "Accuracy of model in train set is 1899/2000(94.95%)\n",
      "Accuracy of model in test set is 939/1000(93.90%)\n",
      "Train Epoch: 1 [8000/8000], Average loss: 0.0987\n",
      "Accuracy of model in train set is 1967/2000(98.35%)\n",
      "Accuracy of model in test set is 960/1000(96.00%)\n",
      "Train Epoch: 2 [8000/8000], Average loss: 0.0527\n",
      "Accuracy of model in train set is 1970/2000(98.50%)\n",
      "Accuracy of model in test set is 971/1000(97.10%)\n",
      "Train Epoch: 3 [8000/8000], Average loss: 0.0376\n",
      "Accuracy of model in train set is 1983/2000(99.15%)\n",
      "Accuracy of model in test set is 985/1000(98.50%)\n",
      "Train Epoch: 4 [8000/8000], Average loss: 0.0165\n",
      "Accuracy of model in train set is 1994/2000(99.70%)\n"
     ]
    },
    {
     "data": {
      "image/png": "[encoded data removed]",
      "text/plain": [
       "<Figure size 432x288 with 3 Axes>"
      ]
     },
     "metadata": {
      "needs_background": "light"
     },
     "output_type": "display_data"
    },
    {
     "data": {
      "image/png": "[encoded data removed]",
      "text/plain": [
       "<Figure size 432x288 with 3 Axes>"
      ]
     },
     "metadata": {
      "needs_background": "light"
     },
     "output_type": "display_data"
    },
    {
     "data": {
      "image/png": "[encoded data removed]",
      "text/plain": [
       "<Figure size 432x288 with 3 Axes>"
      ]
     },
     "metadata": {
      "needs_background": "light"
     },
     "output_type": "display_data"
    },
    {
     "data": {
      "image/png": "[encoded data removed]",
      "text/plain": [
       "<Figure size 432x288 with 3 Axes>"
      ]
     },
     "metadata": {
      "needs_background": "light"
     },
     "output_type": "display_data"
    },
    {
     "data": {
      "image/png": "[encoded data removed]",
      "text/plain": [
       "<Figure size 432x288 with 3 Axes>"
      ]
     },
     "metadata": {
      "needs_background": "light"
     },
     "output_type": "display_data"
    },
    {
     "data": {
      "image/png": "[encoded data removed]",
      "text/plain": [
       "<Figure size 432x288 with 3 Axes>"
      ]
     },
     "metadata": {
      "needs_background": "light"
     },
     "output_type": "display_data"
    },
    {
     "data": {
      "image/png": "[encoded data removed]",
      "text/plain": [
       "<Figure size 432x288 with 3 Axes>"
      ]
     },
     "metadata": {
      "needs_background": "light"
     },
     "output_type": "display_data"
    },
    {
     "data": {
      "image/png": "[encoded data removed]",
      "text/plain": [
       "<Figure size 432x288 with 3 Axes>"
      ]
     },
     "metadata": {
      "needs_background": "light"
     },
     "output_type": "display_data"
    },
    {
     "data": {
      "image/png": "[encoded data removed]",
      "text/plain": [
       "<Figure size 432x288 with 3 Axes>"
      ]
     },
     "metadata": {
      "needs_background": "light"
     },
     "output_type": "display_data"
    },
    {
     "data": {
      "image/png": "[encoded data removed]",
      "text/plain": [
       "<Figure size 432x288 with 3 Axes>"
      ]
     },
     "metadata": {
      "needs_background": "light"
     },
     "output_type": "display_data"
    },
    {
     "data": {
      "image/png": "[encoded data removed]",
      "text/plain": [
       "<Figure size 432x288 with 3 Axes>"
      ]
     },
     "metadata": {
      "needs_background": "light"
     },
     "output_type": "display_data"
    },
    {
     "data": {
      "image/png": "[encoded data removed]",
      "text/plain": [
       "<Figure size 432x288 with 3 Axes>"
      ]
     },
     "metadata": {
      "needs_background": "light"
     },
     "output_type": "display_data"
    },
    {
     "data": {
      "image/png": "[encoded data removed]",
      "text/plain": [
       "<Figure size 432x288 with 3 Axes>"
      ]
     },
     "metadata": {
      "needs_background": "light"
     },
     "output_type": "display_data"
    },
    {
     "data": {
      "image/png": "[encoded data removed]",
      "text/plain": [
       "<Figure size 432x288 with 3 Axes>"
      ]
     },
     "metadata": {
      "needs_background": "light"
     },
     "output_type": "display_data"
    },
    {
     "data": {
      "image/png": "[encoded data removed]",
      "text/plain": [
       "<Figure size 432x288 with 3 Axes>"
      ]
     },
     "metadata": {
      "needs_background": "light"
     },
     "output_type": "display_data"
    },
    {
     "data": {
      "image/png": "[encoded data removed]",
      "text/plain": [
       "<Figure size 432x288 with 3 Axes>"
      ]
     },
     "metadata": {
      "needs_background": "light"
     },
     "output_type": "display_data"
    },
    {
     "data": {
      "image/png": "[encoded data removed]",
      "text/plain": [
       "<Figure size 432x288 with 3 Axes>"
      ]
     },
     "metadata": {
      "needs_background": "light"
     },
     "output_type": "display_data"
    },
    {
     "data": {
      "image/png": "[encoded data removed]",
      "text/plain": [
       "<Figure size 432x288 with 3 Axes>"
      ]
     },
     "metadata": {
      "needs_background": "light"
     },
     "output_type": "display_data"
    },
    {
     "data": {
      "image/png": "[encoded data removed]",
      "text/plain": [
       "<Figure size 432x288 with 3 Axes>"
      ]
     },
     "metadata": {
      "needs_background": "light"
     },
     "output_type": "display_data"
    },
    {
     "data": {
      "image/png": "[encoded data removed]",
      "text/plain": [
       "<Figure size 432x288 with 3 Axes>"
      ]
     },
     "metadata": {
      "needs_background": "light"
     },
     "output_type": "display_data"
    },
    {
     "name": "stdout",
     "output_type": "stream",
     "text": [
      "Error images saved!\n",
      "Accuracy of model in test set is 980/1000(98.00%)\n"
     ]
    }
   ],
   "source": [
    "run_facenet()"
   ]
  },
  {
   "cell_type": "markdown",
   "metadata": {},
   "source": [
    "#### Question 5\n",
    "\n",
    "训练一个较好的resnet18网络，收集在测试集上所有预测错误的样本图片（1000张测试集图片，分错不应超过30张，5%）。并在训练集上找出离这个样本最近的同类样本和错类样本的图片，**并作出简要分析**（15%）。例如，对于一个样本sample，正确类别为A，模型将其错分为B，分别找出训练集中A类样本和B类样本中离sample最近的样本图片（注意是图片！**注意一定要保存在pics文件夹或者自定义文件夹一同提交，否则TA看不到，将图片在下面展示出来**）。"
   ]
  },
  {
   "cell_type": "markdown",
   "metadata": {},
   "source": [
    "###### hints：重写 test_facenet()函数"
   ]
  },
  {
   "cell_type": "markdown",
   "metadata": {},
   "source": [
    "###### hints：根据特征反向寻找图片可参考下列代码. 需保证shuffle=False，train.csv和test.csv均已给出"
   ]
  },
  {
   "cell_type": "markdown",
   "metadata": {},
   "source": [
    "#### Answer 5\n",
    "\n",
    "To collect the errors among the test set, a director named `./pics/errors` serves to save the wrong predictions. `test_facenet()` is rewritten as above. Errors are saved in format like `img + err_count +origin(near_tgt, near_pdc) + (res)`. \n",
    "\n",
    "From the results, we can find that most specimen errors occurs when the scripts are too blurry or the digits are too similar. And confusions between **0 and 6, 2 and 3, 3 and 8, 5 and 3 ...** are common."
   ]
  },
  {
   "cell_type": "markdown",
   "metadata": {},
   "source": [
    "### 3.7 Hard triplet"
   ]
  },
  {
   "cell_type": "markdown",
   "metadata": {},
   "source": [
    "Triplet loss的性能与采样方式有很大的关系，这里简述两种hard-triplet的采样方式，batch-hard与semi-hard。"
   ]
  },
  {
   "cell_type": "markdown",
   "metadata": {},
   "source": [
    "#### Batch hard"
   ]
  },
  {
   "cell_type": "markdown",
   "metadata": {},
   "source": [
    "对于每一个minibatch，随机选择P个类，每一类随机挑选K张不同的图片，即一个minibatch有PxK张不同的图片。每一张图片都作为anchor，找出minibatch里面距离anchor最远的正样本和距离最近的负样本，组成一个triplet。loss可表示为：\n",
    "![batch_hard](pics/batch_hard.png)"
   ]
  },
  {
   "cell_type": "markdown",
   "metadata": {},
   "source": [
    "#### Semi hard"
   ]
  },
  {
   "cell_type": "markdown",
   "metadata": {},
   "source": [
    "与batch-hard不同，semi-hard triplet只需要保证minibatch中anchor到positive的距离小于anchor到negative的距离即为semi-hard，见下图，不需要选出minibatch里面距离anchor最远的负样本\n",
    "![semi_hard](pics/semi_hard.png)"
   ]
  },
  {
   "cell_type": "markdown",
   "metadata": {},
   "source": [
    "#### Question 6\n",
    "本次实验是分类任务的最后一次实验，你对分类任务的学习有何感想？"
   ]
  },
  {
   "cell_type": "markdown",
   "metadata": {},
   "source": [
    "#### Answer 6\n",
    "\n",
    "- It's really any onerous work for only a tiny lift!!!\n",
    "- Sometimes, GPU overcome the computing problem, but this also blind us to some extent. We usually do not attach high importance to the computing difficulties. (~~Bad for algorithm innovation???~~)\n",
    "- The recognition of performances of such complicated NNs are hard to finally verdict, for we lack support from other cases.\n",
    "- Some intriguing ticks such as triplet and BCE are introduced in the modules, inspires us and motivating us to eplore further at the meantime.\n",
    "- ResNet and DenseNet are really siblings, they come from one family! And it's interesting to see their deviations.\n",
    "- *From my own perspective, the progression after ResNet is not showing a lot of progress somehow (probably because of the limitation of dataset), so the advancement is still murky for me.*\n",
    "- I really admire the intelligence of the people who come up with the similarity comparing and loss caculating methods, that's really amazing."
   ]
  },
  {
   "cell_type": "markdown",
   "metadata": {},
   "source": [
    "## 作业附加题：\n",
    "pytorch实现batch-hard或semi-hard的其中一种，重新训练resnet18，对比上面的随机选择triplet的采样方法，其训练过程和结果有何不同，你有更优的方法吗？（不做不扣分，实现一种有较高加分，鼓励同学们挑战高难度）"
   ]
  }
 ],
 "metadata": {
  "kernelspec": {
   "display_name": "Python 3",
   "language": "python",
   "name": "python3"
  },
  "language_info": {
   "codemirror_mode": {
    "name": "ipython",
    "version": 3
   },
   "file_extension": ".py",
   "mimetype": "text/x-python",
   "name": "python",
   "nbconvert_exporter": "python",
   "pygments_lexer": "ipython3",
   "version": "3.7.0"
  }
 },
 "nbformat": 4,
 "nbformat_minor": 2
}
